{
 "cells": [
  {
   "cell_type": "markdown",
   "id": "ac60bc57-4c1e-4d99-b4dc-42aa935a9cf8",
   "metadata": {},
   "source": [
    "# Data Science Tools and Ecosystem"
   ]
  },
  {
   "cell_type": "markdown",
   "id": "8966692e-9c08-41b1-87db-0b354aeef022",
   "metadata": {},
   "source": [
    "Data Science Tools and Ecosystem will be summarized in this notebook."
   ]
  },
  {
   "cell_type": "markdown",
   "id": "64a322da-cfde-4c71-beff-502ae1602595",
   "metadata": {},
   "source": [
    "A few of the popular languages that Data Scientists use are:\n",
    "\n",
    "1. Python\n",
    "2. R\n",
    "3. Julia\n",
    "4. C++\n",
    "5. C"
   ]
  },
  {
   "cell_type": "markdown",
   "id": "a5201223-c2f6-4bb8-acdc-18a5afe541a5",
   "metadata": {},
   "source": [
    "A few of the commonly used libraries that Data Scientists use are:\n",
    "\n",
    "1. Pandas\n",
    "2. NumPy\n",
    "3. ScyPy\n",
    "4. matplotlib\n",
    "5. Seaborn"
   ]
  },
  {
   "cell_type": "markdown",
   "id": "753c184f-1e65-4287-bdc9-8c1c46addfda",
   "metadata": {},
   "source": [
    "|Data Science Tools|\n",
    "--------------------\n",
    "|Jupyter Notebook|\n",
    "|R-Studio|\n",
    "|Visual Studio Code|"
   ]
  },
  {
   "cell_type": "markdown",
   "id": "7c01855c-8798-4f01-9ebe-3778e6e49b6e",
   "metadata": {},
   "source": [
    "### A few examples of evaluating arithmetic expressions in Python are below"
   ]
  },
  {
   "cell_type": "code",
   "execution_count": 1,
   "id": "12d740a0-919a-42b5-8745-7568362ed9dc",
   "metadata": {
    "tags": []
   },
   "outputs": [
    {
     "data": {
      "text/plain": [
       "17"
      ]
     },
     "execution_count": 1,
     "metadata": {},
     "output_type": "execute_result"
    }
   ],
   "source": [
    "# This is a simple arithmetic expression to multiply then add integers\n",
    "\n",
    "(3*4)+5"
   ]
  },
  {
   "cell_type": "code",
   "execution_count": 12,
   "id": "a78904d2-3f06-4f3a-860a-2e6cbc675a7e",
   "metadata": {
    "tags": []
   },
   "outputs": [
    {
     "name": "stdout",
     "output_type": "stream",
     "text": [
      "3.3333333333333335\n"
     ]
    }
   ],
   "source": [
    "# This will convert 200 minutes to hours by dividing by 60\n",
    "\n",
    "minutes = 200\n",
    "hours = minutes/60\n",
    "print(hours)"
   ]
  },
  {
   "cell_type": "markdown",
   "id": "a40636bb-9465-4770-9670-311fd8638553",
   "metadata": {
    "tags": []
   },
   "source": [
    "__Objectives__\n",
    "\n",
    "* List popular languages for Data Science\n",
    "* List popular libraries for Data Science\n",
    "* Convert minutes to hours with Python"
   ]
  },
  {
   "cell_type": "markdown",
   "id": "d48e1a4b-cb2f-4987-8c05-70c82b3937cf",
   "metadata": {},
   "source": [
    "## Author\n",
    "Isaac Bond"
   ]
  }
 ],
 "metadata": {
  "kernelspec": {
   "display_name": "Python",
   "language": "python",
   "name": "conda-env-python-py"
  },
  "language_info": {
   "codemirror_mode": {
    "name": "ipython",
    "version": 3
   },
   "file_extension": ".py",
   "mimetype": "text/x-python",
   "name": "python",
   "nbconvert_exporter": "python",
   "pygments_lexer": "ipython3",
   "version": "3.7.12"
  }
 },
 "nbformat": 4,
 "nbformat_minor": 5
}
